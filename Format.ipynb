{
 "cells": [
  {
   "cell_type": "code",
   "execution_count": 1,
   "metadata": {},
   "outputs": [],
   "source": [
    "import pandas as pd\n",
    "import datetime\n",
    "import os"
   ]
  },
  {
   "cell_type": "markdown",
   "metadata": {},
   "source": [
    "### Rename columns"
   ]
  },
  {
   "cell_type": "code",
   "execution_count": 2,
   "metadata": {},
   "outputs": [],
   "source": [
    "for file in os.listdir('.'):\n",
    "    if file.endswith('.csv'):\n",
    "        data = pd.read_csv(file)\n",
    "        data.rename(columns={' Close/Last':'Close',' Volume':'Volume',' Open':'Open',' High':'High',' Low':'Low'}, inplace=True)\n",
    "        data = data[['Date', 'Open', 'High', 'Low', 'Close', 'Volume']]\n",
    "        data.to_csv(file, index=False)"
   ]
  },
  {
   "cell_type": "markdown",
   "metadata": {},
   "source": [
    "#### Remove dollar sign"
   ]
  },
  {
   "cell_type": "code",
   "execution_count": 3,
   "metadata": {
    "scrolled": true
   },
   "outputs": [],
   "source": [
    "for file in os.listdir('.'):\n",
    "    if file.endswith('.csv'):\n",
    "        data = pd.read_csv(file, parse_dates=[0])\n",
    "        data[data.columns[1:5]] = data[data.columns[1:5]].replace('[^.0-9]', '', regex=True).astype(float)\n",
    "        data.to_csv(file, index=False)"
   ]
  },
  {
   "cell_type": "markdown",
   "metadata": {},
   "source": [
    "#### If *ValueError: could not convert string to float:* Try individual files with this cell"
   ]
  },
  {
   "cell_type": "code",
   "execution_count": null,
   "metadata": {},
   "outputs": [],
   "source": [
    "data = pd.read_csv('ABMD.csv', parse_dates=[0])\n",
    "data[data.columns[1:5]] = data[data.columns[1:5]].replace('[^.0-9]', '', regex=True).astype(float)\n",
    "data.to_csv('ABMD.csv', index=False)"
   ]
  },
  {
   "cell_type": "markdown",
   "metadata": {},
   "source": [
    "### Try removing whitespace in the colums"
   ]
  },
  {
   "cell_type": "code",
   "execution_count": null,
   "metadata": {},
   "outputs": [],
   "source": [
    "for file in os.listdir('.'):\n",
    "    if file.endswith('.csv'):\n",
    "        data = pd.read_csv(file, parse_dates=[0])\n",
    "        data['Open'] = data['Open'].str.strip()\n",
    "        data['High'] = data['High'].str.strip()\n",
    "        data['Low'] = data['Low'].str.strip()\n",
    "        data['Close'] = data['Close'].str.strip()\n",
    "        data[data.columns[1:5]] = data[data.columns[1:5]].replace('[^.0-9]', '', regex=True).astype(float)\n",
    "        data.to_csv(file, index=False)"
   ]
  },
  {
   "cell_type": "markdown",
   "metadata": {},
   "source": [
    "### Individually"
   ]
  },
  {
   "cell_type": "code",
   "execution_count": null,
   "metadata": {},
   "outputs": [],
   "source": [
    "data = pd.read_csv('REGN.csv', parse_dates=[0])\n",
    "data['Open'] = data['Open'].str.strip()\n",
    "data['High'] = data['High'].str.strip()\n",
    "data['Low'] = data['Low'].str.strip()\n",
    "data['Close'] = data['Close'].str.strip()\n",
    "data.to_csv('REGN.csv', index=False)"
   ]
  },
  {
   "cell_type": "markdown",
   "metadata": {},
   "source": [
    "### Reverse Sort (oldest date on top)"
   ]
  },
  {
   "cell_type": "code",
   "execution_count": 4,
   "metadata": {},
   "outputs": [],
   "source": [
    "for file in os.listdir('.'):\n",
    "    if file.endswith('.csv'):\n",
    "        data = pd.read_csv(file)\n",
    "        data = data.iloc[::-1]\n",
    "        data.reset_index(inplace=True, drop=True)\n",
    "        data.to_csv(file, index=False)"
   ]
  },
  {
   "cell_type": "markdown",
   "metadata": {},
   "source": [
    "### Remove index row \n",
    "only necessary if index=True\n",
    "\n",
    "data.to_csv(file, index=__**True**__) "
   ]
  },
  {
   "cell_type": "code",
   "execution_count": null,
   "metadata": {},
   "outputs": [],
   "source": [
    "for file in os.listdir('.'):\n",
    "    if file.endswith('.csv'):\n",
    "        data = pd.read_csv(file_location + file)\n",
    "        data.drop(\"Symbol\", axis=1, inplace=True)\n",
    "        data = data[['Date', 'Open', 'High', 'Low', 'Close', 'Volume']]\n",
    "        data.to_csv(file_location + file, index=False)"
   ]
  },
  {
   "cell_type": "markdown",
   "metadata": {},
   "source": [
    "### Fix date (remove timestamp from datetime)"
   ]
  },
  {
   "cell_type": "code",
   "execution_count": 5,
   "metadata": {},
   "outputs": [],
   "source": [
    "for file in os.listdir('.'):\n",
    "    if file.endswith('.csv'):\n",
    "        data = pd.read_csv(file, parse_dates=[0])\n",
    "        data['Date'] = pd.to_datetime(data['Date'])\n",
    "        data['Date'] = data['Date'].dt.date\n",
    "        data.to_csv(file, index=False, date_format='%Y-%m-%d')"
   ]
  },
  {
   "cell_type": "markdown",
   "metadata": {},
   "source": [
    "#### Only grab desired columns"
   ]
  },
  {
   "cell_type": "code",
   "execution_count": null,
   "metadata": {},
   "outputs": [],
   "source": [
    "cols = ['Symbol', 'Date', 'Open', 'High', 'Low', 'Close', 'Volume']\n",
    "data = pd.read_csv('NASDAQ_20191230.txt', names=cols) # Must name cols, otherwise it uses first row as names\n",
    "daydata = data.loc[data['Symbol'] == 'AMRN','Date':'Volume'] # find AMRN and get Date to Volume columns\n",
    "daydata"
   ]
  },
  {
   "cell_type": "markdown",
   "metadata": {},
   "source": [
    "### Replace 0 with nan then remove those rows (holidays)"
   ]
  },
  {
   "cell_type": "code",
   "execution_count": null,
   "metadata": {},
   "outputs": [],
   "source": [
    "for file in os.listdir('.'):\n",
    "    if file.endswith('.csv'):\n",
    "        data = pd.read_csv(file, parse_dates=[0])\n",
    "        data.replace(0, np.nan, inplace=True)\n",
    "        data.dropna(how='any', inplace=True)\n",
    "        data.to_csv(file, index=False, date_format='%Y-%m-%d')"
   ]
  },
  {
   "cell_type": "code",
   "execution_count": null,
   "metadata": {},
   "outputs": [],
   "source": []
  }
 ],
 "metadata": {
  "kernelspec": {
   "display_name": "Python 3",
   "language": "python",
   "name": "python3"
  },
  "language_info": {
   "codemirror_mode": {
    "name": "ipython",
    "version": 3
   },
   "file_extension": ".py",
   "mimetype": "text/x-python",
   "name": "python",
   "nbconvert_exporter": "python",
   "pygments_lexer": "ipython3",
   "version": "3.8.2"
  }
 },
 "nbformat": 4,
 "nbformat_minor": 2
}
